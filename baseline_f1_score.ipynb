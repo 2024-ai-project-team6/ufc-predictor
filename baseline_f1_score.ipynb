{
  "nbformat": 4,
  "nbformat_minor": 0,
  "metadata": {
    "colab": {
      "provenance": [],
      "gpuType": "T4"
    },
    "kernelspec": {
      "name": "python3",
      "display_name": "Python 3"
    },
    "language_info": {
      "name": "python"
    },
    "accelerator": "GPU"
  },
  "cells": [
    {
      "cell_type": "code",
      "execution_count": 1,
      "metadata": {
        "id": "iDwNC3uX3zjW"
      },
      "outputs": [],
      "source": [
        "import os\n",
        "import pandas as pd\n",
        "import numpy as np\n",
        "from sklearn.model_selection import train_test_split\n",
        "from sklearn.svm import SVC\n",
        "from sklearn.ensemble import RandomForestClassifier\n",
        "from xgboost import XGBClassifier\n",
        "from sklearn.linear_model import LogisticRegression\n",
        "from sklearn.metrics import classification_report, f1_score"
      ]
    },
    {
      "cell_type": "code",
      "source": [
        "# Set random seed for reproducibility\n",
        "SEED = 111\n",
        "np.random.seed(SEED)\n",
        "os.environ['PYTHONHASHSEED'] = str(SEED)"
      ],
      "metadata": {
        "id": "06-8G8H39i8z"
      },
      "execution_count": 2,
      "outputs": []
    },
    {
      "cell_type": "code",
      "source": [
        "# Load the dataset\n",
        "df = pd.read_csv(\"large_dataset.csv\")"
      ],
      "metadata": {
        "id": "4KhRQrnn-g8C"
      },
      "execution_count": 3,
      "outputs": []
    },
    {
      "cell_type": "code",
      "source": [
        "# Check the total number of values and missing values for each column in X\n",
        "column_stats = pd.DataFrame({\n",
        "    \"Column\": [\"age_diff\", \"kd_diff\", \"height_diff\", \"weight_diff\", \"reach_diff\"],\n",
        "    \"Total Values\": [df[column].shape[0] for column in [\"age_diff\", \"kd_diff\", \"height_diff\", \"weight_diff\", \"reach_diff\"]],\n",
        "    \"Missing Values\": [df[column].isnull().sum() for column in [\"age_diff\", \"kd_diff\", \"height_diff\", \"weight_diff\", \"reach_diff\"]]\n",
        "})\n",
        "\n",
        "print(column_stats)"
      ],
      "metadata": {
        "colab": {
          "base_uri": "https://localhost:8080/"
        },
        "id": "W-UO99B4FJVR",
        "outputId": "6daed601-445f-4037-b119-b8d9b422cd5b"
      },
      "execution_count": 10,
      "outputs": [
        {
          "output_type": "stream",
          "name": "stdout",
          "text": [
            "        Column  Total Values  Missing Values\n",
            "0     age_diff          7439             213\n",
            "1      kd_diff          7439               0\n",
            "2  height_diff          7439               0\n",
            "3  weight_diff          7439               0\n",
            "4   reach_diff          7439            1038\n"
          ]
        }
      ]
    },
    {
      "cell_type": "code",
      "source": [
        "# Fill missing values in 'age_diff' and 'reach_diff' with their respective column mean\n",
        "df[\"age_diff\"] = df[\"age_diff\"].fillna(df[\"age_diff\"].mean())\n",
        "df[\"reach_diff\"] = df[\"reach_diff\"].fillna(df[\"reach_diff\"].mean())"
      ],
      "metadata": {
        "id": "k5VIDg3rFsh6"
      },
      "execution_count": 11,
      "outputs": []
    },
    {
      "cell_type": "code",
      "source": [
        "# Check the total number of values and missing values for each column in X\n",
        "column_stats = pd.DataFrame({\n",
        "    \"Column\": [\"age_diff\", \"kd_diff\", \"height_diff\", \"weight_diff\", \"reach_diff\"],\n",
        "    \"Total Values\": [df[column].shape[0] for column in [\"age_diff\", \"kd_diff\", \"height_diff\", \"weight_diff\", \"reach_diff\"]],\n",
        "    \"Missing Values\": [df[column].isnull().sum() for column in [\"age_diff\", \"kd_diff\", \"height_diff\", \"weight_diff\", \"reach_diff\"]]\n",
        "})\n",
        "\n",
        "print(column_stats)"
      ],
      "metadata": {
        "colab": {
          "base_uri": "https://localhost:8080/"
        },
        "id": "tXkIi-I0FtUD",
        "outputId": "c1940308-6fc8-446e-bf6b-7638a71d1ad8"
      },
      "execution_count": 12,
      "outputs": [
        {
          "output_type": "stream",
          "name": "stdout",
          "text": [
            "        Column  Total Values  Missing Values\n",
            "0     age_diff          7439               0\n",
            "1      kd_diff          7439               0\n",
            "2  height_diff          7439               0\n",
            "3  weight_diff          7439               0\n",
            "4   reach_diff          7439               0\n"
          ]
        }
      ]
    },
    {
      "cell_type": "code",
      "source": [
        "# Use specific columns for features\n",
        "X = df[[\"age_diff\", \"kd_diff\", \"height_diff\", \"weight_diff\", \"reach_diff\"]].values\n",
        "y = df[\"winner\"].values"
      ],
      "metadata": {
        "id": "nYbfrZ8DDAMs"
      },
      "execution_count": 13,
      "outputs": []
    },
    {
      "cell_type": "code",
      "source": [
        "# Train/Validation/Test split (8:1:1 ratio)\n",
        "X_train, X_temp, y_train, y_temp = train_test_split(X, y, test_size=0.2, random_state=SEED)\n",
        "X_val, X_test, y_val, y_test = train_test_split(X_temp, y_temp, test_size=0.5, random_state=SEED)\n",
        "\n",
        "print(f\"Train size: {len(y_train)}, Validation size: {len(y_val)}, Test size: {len(y_test)}\")"
      ],
      "metadata": {
        "colab": {
          "base_uri": "https://localhost:8080/"
        },
        "id": "cD1Au_KiDCuV",
        "outputId": "2c12cef0-fafa-4d26-e678-ee56bcfcedfc"
      },
      "execution_count": 14,
      "outputs": [
        {
          "output_type": "stream",
          "name": "stdout",
          "text": [
            "Train size: 5951, Validation size: 744, Test size: 744\n"
          ]
        }
      ]
    },
    {
      "cell_type": "code",
      "source": [
        "# Initialize models\n",
        "models = {\n",
        "    \"SVM\": SVC(kernel=\"linear\", random_state=SEED),\n",
        "    \"RandomForest\": RandomForestClassifier(n_estimators=100, random_state=SEED),\n",
        "    \"XGBoost\": XGBClassifier(n_estimators=200, random_state=SEED),\n",
        "    \"LogisticRegression\": LogisticRegression(random_state=SEED)\n",
        "}"
      ],
      "metadata": {
        "id": "8OSArhRnDjol"
      },
      "execution_count": 15,
      "outputs": []
    },
    {
      "cell_type": "code",
      "source": [
        "# Map 'Red' and 'Blue' to 1 and 0 respectively\n",
        "y_train = pd.Series(y_train).map({'Red': 1, 'Blue': 0}).values\n",
        "y_val = pd.Series(y_val).map({'Red': 1, 'Blue': 0}).values\n",
        "y_test = pd.Series(y_test).map({'Red': 1, 'Blue': 0}).values"
      ],
      "metadata": {
        "id": "I6qVys4jHn57"
      },
      "execution_count": 17,
      "outputs": []
    },
    {
      "cell_type": "code",
      "source": [
        "# Train and evaluate models on validation set\n",
        "for name, model in models.items():\n",
        "    model.fit(X_train, y_train)\n",
        "    y_val_pred = model.predict(X_val)\n",
        "    f1 = f1_score(y_val, y_val_pred)\n",
        "    print(f\"{name} Validation F1-Score: {f1:.4f}\")\n",
        "    print(f\"Classification Report for {name}:\\n{classification_report(y_val, y_val_pred)}\")"
      ],
      "metadata": {
        "colab": {
          "base_uri": "https://localhost:8080/"
        },
        "id": "OPKsMvdIDnHE",
        "outputId": "8fbf196d-993c-4ba5-d1ce-85e11a09580e"
      },
      "execution_count": 18,
      "outputs": [
        {
          "output_type": "stream",
          "name": "stdout",
          "text": [
            "SVM Validation F1-Score: 0.8260\n",
            "Classification Report for SVM:\n",
            "              precision    recall  f1-score   support\n",
            "\n",
            "           0       0.80      0.35      0.49       263\n",
            "           1       0.73      0.95      0.83       481\n",
            "\n",
            "    accuracy                           0.74       744\n",
            "   macro avg       0.77      0.65      0.66       744\n",
            "weighted avg       0.75      0.74      0.71       744\n",
            "\n",
            "RandomForest Validation F1-Score: 0.7761\n",
            "Classification Report for RandomForest:\n",
            "              precision    recall  f1-score   support\n",
            "\n",
            "           0       0.59      0.53      0.56       263\n",
            "           1       0.76      0.80      0.78       481\n",
            "\n",
            "    accuracy                           0.70       744\n",
            "   macro avg       0.67      0.66      0.67       744\n",
            "weighted avg       0.70      0.70      0.70       744\n",
            "\n",
            "XGBoost Validation F1-Score: 0.7793\n",
            "Classification Report for XGBoost:\n",
            "              precision    recall  f1-score   support\n",
            "\n",
            "           0       0.59      0.45      0.51       263\n",
            "           1       0.73      0.83      0.78       481\n",
            "\n",
            "    accuracy                           0.70       744\n",
            "   macro avg       0.66      0.64      0.65       744\n",
            "weighted avg       0.68      0.70      0.69       744\n",
            "\n",
            "LogisticRegression Validation F1-Score: 0.8276\n",
            "Classification Report for LogisticRegression:\n",
            "              precision    recall  f1-score   support\n",
            "\n",
            "           0       0.80      0.37      0.51       263\n",
            "           1       0.73      0.95      0.83       481\n",
            "\n",
            "    accuracy                           0.74       744\n",
            "   macro avg       0.77      0.66      0.67       744\n",
            "weighted avg       0.76      0.74      0.71       744\n",
            "\n"
          ]
        }
      ]
    },
    {
      "cell_type": "code",
      "source": [
        "# Evaluate models on the test set\n",
        "print(\"\\n--- Test Set Performance ---\")\n",
        "for name, model in models.items():\n",
        "    y_test_pred = model.predict(X_test)\n",
        "    f1 = f1_score(y_test, y_test_pred)\n",
        "    print(f\"{name} Test F1-Score: {f1:.4f}\")\n",
        "    print(f\"Classification Report for {name}:\\n{classification_report(y_test, y_test_pred)}\")"
      ],
      "metadata": {
        "colab": {
          "base_uri": "https://localhost:8080/"
        },
        "id": "LhKdFJdFDpuq",
        "outputId": "c60ac60e-d919-411e-db33-e502332712e2"
      },
      "execution_count": 19,
      "outputs": [
        {
          "output_type": "stream",
          "name": "stdout",
          "text": [
            "\n",
            "--- Test Set Performance ---\n",
            "SVM Test F1-Score: 0.8219\n",
            "Classification Report for SVM:\n",
            "              precision    recall  f1-score   support\n",
            "\n",
            "           0       0.72      0.35      0.47       252\n",
            "           1       0.74      0.93      0.82       492\n",
            "\n",
            "    accuracy                           0.73       744\n",
            "   macro avg       0.73      0.64      0.65       744\n",
            "weighted avg       0.73      0.73      0.70       744\n",
            "\n",
            "RandomForest Test F1-Score: 0.7698\n",
            "Classification Report for RandomForest:\n",
            "              precision    recall  f1-score   support\n",
            "\n",
            "           0       0.54      0.49      0.52       252\n",
            "           1       0.75      0.79      0.77       492\n",
            "\n",
            "    accuracy                           0.69       744\n",
            "   macro avg       0.65      0.64      0.64       744\n",
            "weighted avg       0.68      0.69      0.68       744\n",
            "\n",
            "XGBoost Test F1-Score: 0.7950\n",
            "Classification Report for XGBoost:\n",
            "              precision    recall  f1-score   support\n",
            "\n",
            "           0       0.60      0.44      0.51       252\n",
            "           1       0.75      0.85      0.80       492\n",
            "\n",
            "    accuracy                           0.71       744\n",
            "   macro avg       0.67      0.65      0.65       744\n",
            "weighted avg       0.70      0.71      0.70       744\n",
            "\n",
            "LogisticRegression Test F1-Score: 0.8203\n",
            "Classification Report for LogisticRegression:\n",
            "              precision    recall  f1-score   support\n",
            "\n",
            "           0       0.70      0.37      0.49       252\n",
            "           1       0.74      0.92      0.82       492\n",
            "\n",
            "    accuracy                           0.73       744\n",
            "   macro avg       0.72      0.65      0.65       744\n",
            "weighted avg       0.73      0.73      0.71       744\n",
            "\n"
          ]
        }
      ]
    }
  ]
}