import os
import pandas as pd
import numpy as np
from sklearn.model_selection import train_test_split
from sklearn.svm import SVC
from sklearn.ensemble import RandomForestClassifier
from xgboost import XGBClassifier
from sklearn.linear_model import LogisticRegression
from sklearn.metrics import classification_report, f1_score

# Set random seed for reproducibility
SEED = 111
np.random.seed(SEED)
os.environ['PYTHONHASHSEED'] = str(SEED)

# Load the dataset
df = pd.read_csv("large_dataset.csv")

# Check the total number of values and missing values for each column in X
column_stats = pd.DataFrame({
    "Column": ["age_diff", "kd_diff", "height_diff", "weight_diff", "reach_diff"],
    "Total Values": [df[column].shape[0] for column in ["age_diff", "kd_diff", "height_diff", "weight_diff", "reach_diff"]],
    "Missing Values": [df[column].isnull().sum() for column in ["age_diff", "kd_diff", "height_diff", "weight_diff", "reach_diff"]]
})

print(column_stats)

# Fill missing values in 'age_diff' and 'reach_diff' with their respective column mean
df["age_diff"] = df["age_diff"].fillna(df["age_diff"].mean())
df["reach_diff"] = df["reach_diff"].fillna(df["reach_diff"].mean())

# Check the total number of values and missing values for each column in X
column_stats = pd.DataFrame({
    "Column": ["age_diff", "kd_diff", "height_diff", "weight_diff", "reach_diff"],
    "Total Values": [df[column].shape[0] for column in ["age_diff", "kd_diff", "height_diff", "weight_diff", "reach_diff"]],
    "Missing Values": [df[column].isnull().sum() for column in ["age_diff", "kd_diff", "height_diff", "weight_diff", "reach_diff"]]
})

print(column_stats)

# Use specific columns for features
X = df[["age_diff", "kd_diff", "height_diff", "weight_diff", "reach_diff"]].values
y = df["winner"].values

# Train/Validation/Test split (8:1:1 ratio)
X_train, X_temp, y_train, y_temp = train_test_split(X, y, test_size=0.2, random_state=SEED)
X_val, X_test, y_val, y_test = train_test_split(X_temp, y_temp, test_size=0.5, random_state=SEED)

print(f"Train size: {len(y_train)}, Validation size: {len(y_val)}, Test size: {len(y_test)}")

# Initialize models
models = {
    "SVM": SVC(kernel="linear", random_state=SEED),
    "RandomForest": RandomForestClassifier(n_estimators=100, random_state=SEED),
    "XGBoost": XGBClassifier(n_estimators=200, random_state=SEED),
    "LogisticRegression": LogisticRegression(random_state=SEED)
}

# Train and evaluate models on validation set
for name, model in models.items():
    model.fit(X_train, y_train)
    y_val_pred = model.predict(X_val)
    f1 = f1_score(y_val, y_val_pred)
    print(f"{name} Validation F1-Score: {f1:.4f}")
    print(f"Classification Report for {name}:\n{classification_report(y_val, y_val_pred)}")
