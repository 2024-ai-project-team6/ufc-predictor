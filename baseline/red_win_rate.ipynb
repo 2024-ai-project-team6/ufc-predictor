{
  "nbformat": 4,
  "nbformat_minor": 0,
  "metadata": {
    "colab": {
      "provenance": [],
      "gpuType": "T4"
    },
    "kernelspec": {
      "name": "python3",
      "display_name": "Python 3"
    },
    "language_info": {
      "name": "python"
    },
    "accelerator": "GPU"
  },
  "cells": [
    {
      "cell_type": "code",
      "execution_count": 1,
      "metadata": {
        "id": "F1CujYHu_bu0"
      },
      "outputs": [],
      "source": [
        "import pandas as pd"
      ]
    },
    {
      "cell_type": "code",
      "source": [
        "file_path = \"large_dataset.csv\"\n",
        "data = pd.read_csv(file_path)"
      ],
      "metadata": {
        "id": "YRfd5ZEo_tFU"
      },
      "execution_count": 2,
      "outputs": []
    },
    {
      "cell_type": "code",
      "source": [
        "weight_class_mapping = {\n",
        "    \"UFC Women's Flyweight Title\": \"Women's Flyweight\",\n",
        "    \"UFC Women's Strawweight Title\": \"Women's Strawweight\",\n",
        "    \"UFC Women's Bantamweight Title\": \"Women's Bantamweight\",\n",
        "    \"UFC Flyweight Title\": \"Flyweight\",\n",
        "    \"UFC Bantamweight Title\": \"Bantamweight\",\n",
        "    \"UFC Featherweight Title\": \"Featherweight\",\n",
        "    \"UFC Lightweight Title\": \"Lightweight\",\n",
        "    \"UFC Welterweight Title\": \"Welterweight\",\n",
        "    \"UFC Middleweight Title\": \"Middleweight\",\n",
        "    \"UFC Light Heavyweight Title\": \"Light Heavyweight\",\n",
        "    \"UFC Heavyweight Title\": \"Heavyweight\",\n",
        "}"
      ],
      "metadata": {
        "id": "eLLMijtM_0EI"
      },
      "execution_count": 3,
      "outputs": []
    },
    {
      "cell_type": "code",
      "source": [
        "data[\"weight_class\"] = data[\"weight_class\"].replace(weight_class_mapping)"
      ],
      "metadata": {
        "id": "ZzUGt87R_3Ac"
      },
      "execution_count": 4,
      "outputs": []
    },
    {
      "cell_type": "code",
      "source": [
        "# weight_class 컬럼 값으로 데이터셋 분리 및 Winner 컬럼 비율 계산\n",
        "unique_classes = data[\"weight_class\"].unique()\n",
        "results = []"
      ],
      "metadata": {
        "id": "__oOc2--_471"
      },
      "execution_count": 5,
      "outputs": []
    },
    {
      "cell_type": "code",
      "source": [
        "for weight_class in unique_classes:\n",
        "    class_data = data[data[\"weight_class\"] == weight_class]\n",
        "    red_winner_ratio = (class_data[\"winner\"] == \"Red\").mean()\n",
        "    results.append({\n",
        "        \"weight_class\": weight_class,\n",
        "        \"red_winner_ratio\": red_winner_ratio\n",
        "    })"
      ],
      "metadata": {
        "id": "5otgR9cf_9d0"
      },
      "execution_count": 7,
      "outputs": []
    },
    {
      "cell_type": "code",
      "source": [
        "# 결과를 DataFrame으로 정리\n",
        "results_df = pd.DataFrame(results)"
      ],
      "metadata": {
        "id": "PtIDaaZb__2E"
      },
      "execution_count": 8,
      "outputs": []
    },
    {
      "cell_type": "code",
      "source": [
        "# 결과 출력\n",
        "import ace_tools as tools; tools.display_dataframe_to_user(name=\"Red Winner Ratio by Weight Class\", dataframe=results_df)"
      ],
      "metadata": {
        "colab": {
          "base_uri": "https://localhost:8080/",
          "height": 341
        },
        "id": "WpUkpRNPAIMf",
        "outputId": "f15589df-23c7-4ab8-c6a8-891e8f543ebb"
      },
      "execution_count": 9,
      "outputs": [
        {
          "output_type": "error",
          "ename": "ModuleNotFoundError",
          "evalue": "No module named 'ace_tools'",
          "traceback": [
            "\u001b[0;31m---------------------------------------------------------------------------\u001b[0m",
            "\u001b[0;31mModuleNotFoundError\u001b[0m                       Traceback (most recent call last)",
            "\u001b[0;32m<ipython-input-9-733e03b20430>\u001b[0m in \u001b[0;36m<cell line: 2>\u001b[0;34m()\u001b[0m\n\u001b[1;32m      1\u001b[0m \u001b[0;31m# 결과 출력\u001b[0m\u001b[0;34m\u001b[0m\u001b[0;34m\u001b[0m\u001b[0m\n\u001b[0;32m----> 2\u001b[0;31m \u001b[0;32mimport\u001b[0m \u001b[0mace_tools\u001b[0m \u001b[0;32mas\u001b[0m \u001b[0mtools\u001b[0m\u001b[0;34m;\u001b[0m \u001b[0mtools\u001b[0m\u001b[0;34m.\u001b[0m\u001b[0mdisplay_dataframe_to_user\u001b[0m\u001b[0;34m(\u001b[0m\u001b[0mname\u001b[0m\u001b[0;34m=\u001b[0m\u001b[0;34m\"Red Winner Ratio by Weight Class\"\u001b[0m\u001b[0;34m,\u001b[0m \u001b[0mdataframe\u001b[0m\u001b[0;34m=\u001b[0m\u001b[0mresults_df\u001b[0m\u001b[0;34m)\u001b[0m\u001b[0;34m\u001b[0m\u001b[0;34m\u001b[0m\u001b[0m\n\u001b[0m",
            "\u001b[0;31mModuleNotFoundError\u001b[0m: No module named 'ace_tools'",
            "",
            "\u001b[0;31m---------------------------------------------------------------------------\u001b[0;32m\nNOTE: If your import is failing due to a missing package, you can\nmanually install dependencies using either !pip or !apt.\n\nTo view examples of installing some common dependencies, click the\n\"Open Examples\" button below.\n\u001b[0;31m---------------------------------------------------------------------------\u001b[0m\n"
          ],
          "errorDetails": {
            "actions": [
              {
                "action": "open_url",
                "actionText": "Open Examples",
                "url": "/notebooks/snippets/importing_libraries.ipynb"
              }
            ]
          }
        }
      ]
    },
    {
      "cell_type": "code",
      "source": [
        "# 결과를 출력\n",
        "print(results_df)"
      ],
      "metadata": {
        "colab": {
          "base_uri": "https://localhost:8080/"
        },
        "id": "0f96iWuIAKBp",
        "outputId": "3108bc59-04e5-4894-dc29-5354faadbc2e"
      },
      "execution_count": 10,
      "outputs": [
        {
          "output_type": "stream",
          "name": "stdout",
          "text": [
            "              weight_class  red_winner_ratio\n",
            "0        Women's Flyweight          0.564815\n",
            "1              Heavyweight          0.723308\n",
            "2             Middleweight          0.667009\n",
            "3             Bantamweight          0.601600\n",
            "4            Featherweight          0.606838\n",
            "..                     ...               ...\n",
            "93  UFC 6 Tournament Title          1.000000\n",
            "94  UFC 5 Tournament Title          1.000000\n",
            "95  UFC 4 Tournament Title          1.000000\n",
            "96  UFC 3 Tournament Title          1.000000\n",
            "97  UFC 2 Tournament Title          1.000000\n",
            "\n",
            "[98 rows x 2 columns]\n"
          ]
        }
      ]
    },
    {
      "cell_type": "code",
      "source": [
        "# 결과를 CSV로 저장\n",
        "results_df.to_csv(\"red_winner_ratios.csv\", index=False)"
      ],
      "metadata": {
        "id": "XpUoNFwkAX3t"
      },
      "execution_count": 11,
      "outputs": []
    }
  ]
}